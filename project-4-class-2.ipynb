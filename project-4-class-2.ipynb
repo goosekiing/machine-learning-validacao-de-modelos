{
 "cells": [
  {
   "cell_type": "code",
   "execution_count": 1,
   "metadata": {},
   "outputs": [],
   "source": [
    "import pandas as pd\n",
    "import numpy as np\n",
    "import seaborn as sns"
   ]
  },
  {
   "cell_type": "code",
   "execution_count": 2,
   "metadata": {},
   "outputs": [
    {
     "data": {
      "text/html": [
       "<div>\n",
       "<style scoped>\n",
       "    .dataframe tbody tr th:only-of-type {\n",
       "        vertical-align: middle;\n",
       "    }\n",
       "\n",
       "    .dataframe tbody tr th {\n",
       "        vertical-align: top;\n",
       "    }\n",
       "\n",
       "    .dataframe thead th {\n",
       "        text-align: right;\n",
       "    }\n",
       "</style>\n",
       "<table border=\"1\" class=\"dataframe\">\n",
       "  <thead>\n",
       "    <tr style=\"text-align: right;\">\n",
       "      <th></th>\n",
       "      <th>Unnamed: 0</th>\n",
       "      <th>mileage_per_year</th>\n",
       "      <th>model_year</th>\n",
       "      <th>price</th>\n",
       "      <th>sold</th>\n",
       "    </tr>\n",
       "  </thead>\n",
       "  <tbody>\n",
       "    <tr>\n",
       "      <th>0</th>\n",
       "      <td>0</td>\n",
       "      <td>21801</td>\n",
       "      <td>2000</td>\n",
       "      <td>30941.02</td>\n",
       "      <td>yes</td>\n",
       "    </tr>\n",
       "    <tr>\n",
       "      <th>1</th>\n",
       "      <td>1</td>\n",
       "      <td>7843</td>\n",
       "      <td>1998</td>\n",
       "      <td>40557.96</td>\n",
       "      <td>yes</td>\n",
       "    </tr>\n",
       "    <tr>\n",
       "      <th>2</th>\n",
       "      <td>2</td>\n",
       "      <td>7109</td>\n",
       "      <td>2006</td>\n",
       "      <td>89627.50</td>\n",
       "      <td>no</td>\n",
       "    </tr>\n",
       "    <tr>\n",
       "      <th>3</th>\n",
       "      <td>3</td>\n",
       "      <td>26823</td>\n",
       "      <td>2015</td>\n",
       "      <td>95276.14</td>\n",
       "      <td>no</td>\n",
       "    </tr>\n",
       "    <tr>\n",
       "      <th>4</th>\n",
       "      <td>4</td>\n",
       "      <td>7935</td>\n",
       "      <td>2014</td>\n",
       "      <td>117384.68</td>\n",
       "      <td>yes</td>\n",
       "    </tr>\n",
       "  </tbody>\n",
       "</table>\n",
       "</div>"
      ],
      "text/plain": [
       "   Unnamed: 0  mileage_per_year  model_year      price sold\n",
       "0           0             21801        2000   30941.02  yes\n",
       "1           1              7843        1998   40557.96  yes\n",
       "2           2              7109        2006   89627.50   no\n",
       "3           3             26823        2015   95276.14   no\n",
       "4           4              7935        2014  117384.68  yes"
      ]
     },
     "execution_count": 2,
     "metadata": {},
     "output_type": "execute_result"
    }
   ],
   "source": [
    "dados=pd.read_csv(\"project-4-class-2-data.csv\")\n",
    "dados.head()"
   ]
  },
  {
   "cell_type": "code",
   "execution_count": 3,
   "metadata": {},
   "outputs": [],
   "source": [
    "mapa={\n",
    "    'mileage_per_year' : 'milhas_por_ano',\n",
    "    'model_year' : 'ano_do_modelo',\n",
    "    'price' : 'preco',\n",
    "    'sold' :'vendido'\n",
    "}"
   ]
  },
  {
   "cell_type": "code",
   "execution_count": 4,
   "metadata": {},
   "outputs": [
    {
     "data": {
      "text/html": [
       "<div>\n",
       "<style scoped>\n",
       "    .dataframe tbody tr th:only-of-type {\n",
       "        vertical-align: middle;\n",
       "    }\n",
       "\n",
       "    .dataframe tbody tr th {\n",
       "        vertical-align: top;\n",
       "    }\n",
       "\n",
       "    .dataframe thead th {\n",
       "        text-align: right;\n",
       "    }\n",
       "</style>\n",
       "<table border=\"1\" class=\"dataframe\">\n",
       "  <thead>\n",
       "    <tr style=\"text-align: right;\">\n",
       "      <th></th>\n",
       "      <th>Unnamed: 0</th>\n",
       "      <th>milhas_por_ano</th>\n",
       "      <th>ano_do_modelo</th>\n",
       "      <th>preco</th>\n",
       "      <th>vendido</th>\n",
       "    </tr>\n",
       "  </thead>\n",
       "  <tbody>\n",
       "    <tr>\n",
       "      <th>0</th>\n",
       "      <td>0</td>\n",
       "      <td>21801</td>\n",
       "      <td>2000</td>\n",
       "      <td>30941.02</td>\n",
       "      <td>yes</td>\n",
       "    </tr>\n",
       "    <tr>\n",
       "      <th>1</th>\n",
       "      <td>1</td>\n",
       "      <td>7843</td>\n",
       "      <td>1998</td>\n",
       "      <td>40557.96</td>\n",
       "      <td>yes</td>\n",
       "    </tr>\n",
       "    <tr>\n",
       "      <th>2</th>\n",
       "      <td>2</td>\n",
       "      <td>7109</td>\n",
       "      <td>2006</td>\n",
       "      <td>89627.50</td>\n",
       "      <td>no</td>\n",
       "    </tr>\n",
       "    <tr>\n",
       "      <th>3</th>\n",
       "      <td>3</td>\n",
       "      <td>26823</td>\n",
       "      <td>2015</td>\n",
       "      <td>95276.14</td>\n",
       "      <td>no</td>\n",
       "    </tr>\n",
       "    <tr>\n",
       "      <th>4</th>\n",
       "      <td>4</td>\n",
       "      <td>7935</td>\n",
       "      <td>2014</td>\n",
       "      <td>117384.68</td>\n",
       "      <td>yes</td>\n",
       "    </tr>\n",
       "  </tbody>\n",
       "</table>\n",
       "</div>"
      ],
      "text/plain": [
       "   Unnamed: 0  milhas_por_ano  ano_do_modelo      preco vendido\n",
       "0           0           21801           2000   30941.02     yes\n",
       "1           1            7843           1998   40557.96     yes\n",
       "2           2            7109           2006   89627.50      no\n",
       "3           3           26823           2015   95276.14      no\n",
       "4           4            7935           2014  117384.68     yes"
      ]
     },
     "execution_count": 4,
     "metadata": {},
     "output_type": "execute_result"
    }
   ],
   "source": [
    "dados.rename(columns=mapa, inplace=True)\n",
    "dados.head()"
   ]
  },
  {
   "cell_type": "code",
   "execution_count": 5,
   "metadata": {},
   "outputs": [
    {
     "data": {
      "text/html": [
       "<div>\n",
       "<style scoped>\n",
       "    .dataframe tbody tr th:only-of-type {\n",
       "        vertical-align: middle;\n",
       "    }\n",
       "\n",
       "    .dataframe tbody tr th {\n",
       "        vertical-align: top;\n",
       "    }\n",
       "\n",
       "    .dataframe thead th {\n",
       "        text-align: right;\n",
       "    }\n",
       "</style>\n",
       "<table border=\"1\" class=\"dataframe\">\n",
       "  <thead>\n",
       "    <tr style=\"text-align: right;\">\n",
       "      <th></th>\n",
       "      <th>Unnamed: 0</th>\n",
       "      <th>milhas_por_ano</th>\n",
       "      <th>ano_do_modelo</th>\n",
       "      <th>preco</th>\n",
       "      <th>vendido</th>\n",
       "    </tr>\n",
       "  </thead>\n",
       "  <tbody>\n",
       "    <tr>\n",
       "      <th>0</th>\n",
       "      <td>0</td>\n",
       "      <td>21801</td>\n",
       "      <td>2000</td>\n",
       "      <td>30941.02</td>\n",
       "      <td>1</td>\n",
       "    </tr>\n",
       "    <tr>\n",
       "      <th>1</th>\n",
       "      <td>1</td>\n",
       "      <td>7843</td>\n",
       "      <td>1998</td>\n",
       "      <td>40557.96</td>\n",
       "      <td>1</td>\n",
       "    </tr>\n",
       "    <tr>\n",
       "      <th>2</th>\n",
       "      <td>2</td>\n",
       "      <td>7109</td>\n",
       "      <td>2006</td>\n",
       "      <td>89627.50</td>\n",
       "      <td>0</td>\n",
       "    </tr>\n",
       "    <tr>\n",
       "      <th>3</th>\n",
       "      <td>3</td>\n",
       "      <td>26823</td>\n",
       "      <td>2015</td>\n",
       "      <td>95276.14</td>\n",
       "      <td>0</td>\n",
       "    </tr>\n",
       "    <tr>\n",
       "      <th>4</th>\n",
       "      <td>4</td>\n",
       "      <td>7935</td>\n",
       "      <td>2014</td>\n",
       "      <td>117384.68</td>\n",
       "      <td>1</td>\n",
       "    </tr>\n",
       "  </tbody>\n",
       "</table>\n",
       "</div>"
      ],
      "text/plain": [
       "   Unnamed: 0  milhas_por_ano  ano_do_modelo      preco  vendido\n",
       "0           0           21801           2000   30941.02        1\n",
       "1           1            7843           1998   40557.96        1\n",
       "2           2            7109           2006   89627.50        0\n",
       "3           3           26823           2015   95276.14        0\n",
       "4           4            7935           2014  117384.68        1"
      ]
     },
     "execution_count": 5,
     "metadata": {},
     "output_type": "execute_result"
    }
   ],
   "source": [
    "vendido_valores_numericos = {\n",
    "    \"no\": 0,\n",
    "    \"yes\": 1\n",
    "}\n",
    "\n",
    "dados[\"vendido\"] = dados[\"vendido\"].map(vendido_valores_numericos)\n",
    "dados.head()"
   ]
  },
  {
   "cell_type": "code",
   "execution_count": 6,
   "metadata": {},
   "outputs": [
    {
     "data": {
      "text/html": [
       "<div>\n",
       "<style scoped>\n",
       "    .dataframe tbody tr th:only-of-type {\n",
       "        vertical-align: middle;\n",
       "    }\n",
       "\n",
       "    .dataframe tbody tr th {\n",
       "        vertical-align: top;\n",
       "    }\n",
       "\n",
       "    .dataframe thead th {\n",
       "        text-align: right;\n",
       "    }\n",
       "</style>\n",
       "<table border=\"1\" class=\"dataframe\">\n",
       "  <thead>\n",
       "    <tr style=\"text-align: right;\">\n",
       "      <th></th>\n",
       "      <th>Unnamed: 0</th>\n",
       "      <th>milhas_por_ano</th>\n",
       "      <th>ano_do_modelo</th>\n",
       "      <th>preco</th>\n",
       "      <th>vendido</th>\n",
       "      <th>idade_do_modelo</th>\n",
       "    </tr>\n",
       "  </thead>\n",
       "  <tbody>\n",
       "    <tr>\n",
       "      <th>0</th>\n",
       "      <td>0</td>\n",
       "      <td>21801</td>\n",
       "      <td>2000</td>\n",
       "      <td>30941.02</td>\n",
       "      <td>1</td>\n",
       "      <td>23</td>\n",
       "    </tr>\n",
       "    <tr>\n",
       "      <th>1</th>\n",
       "      <td>1</td>\n",
       "      <td>7843</td>\n",
       "      <td>1998</td>\n",
       "      <td>40557.96</td>\n",
       "      <td>1</td>\n",
       "      <td>25</td>\n",
       "    </tr>\n",
       "    <tr>\n",
       "      <th>2</th>\n",
       "      <td>2</td>\n",
       "      <td>7109</td>\n",
       "      <td>2006</td>\n",
       "      <td>89627.50</td>\n",
       "      <td>0</td>\n",
       "      <td>17</td>\n",
       "    </tr>\n",
       "    <tr>\n",
       "      <th>3</th>\n",
       "      <td>3</td>\n",
       "      <td>26823</td>\n",
       "      <td>2015</td>\n",
       "      <td>95276.14</td>\n",
       "      <td>0</td>\n",
       "      <td>8</td>\n",
       "    </tr>\n",
       "    <tr>\n",
       "      <th>4</th>\n",
       "      <td>4</td>\n",
       "      <td>7935</td>\n",
       "      <td>2014</td>\n",
       "      <td>117384.68</td>\n",
       "      <td>1</td>\n",
       "      <td>9</td>\n",
       "    </tr>\n",
       "  </tbody>\n",
       "</table>\n",
       "</div>"
      ],
      "text/plain": [
       "   Unnamed: 0  milhas_por_ano  ano_do_modelo      preco  vendido  \\\n",
       "0           0           21801           2000   30941.02        1   \n",
       "1           1            7843           1998   40557.96        1   \n",
       "2           2            7109           2006   89627.50        0   \n",
       "3           3           26823           2015   95276.14        0   \n",
       "4           4            7935           2014  117384.68        1   \n",
       "\n",
       "   idade_do_modelo  \n",
       "0               23  \n",
       "1               25  \n",
       "2               17  \n",
       "3                8  \n",
       "4                9  "
      ]
     },
     "execution_count": 6,
     "metadata": {},
     "output_type": "execute_result"
    }
   ],
   "source": [
    "from datetime import datetime\n",
    "\n",
    "ano_atual = datetime.today().year\n",
    "dados[\"idade_do_modelo\"] = ano_atual - dados[\"ano_do_modelo\"]\n",
    "dados.head()"
   ]
  },
  {
   "cell_type": "code",
   "execution_count": 7,
   "metadata": {},
   "outputs": [
    {
     "data": {
      "text/html": [
       "<div>\n",
       "<style scoped>\n",
       "    .dataframe tbody tr th:only-of-type {\n",
       "        vertical-align: middle;\n",
       "    }\n",
       "\n",
       "    .dataframe tbody tr th {\n",
       "        vertical-align: top;\n",
       "    }\n",
       "\n",
       "    .dataframe thead th {\n",
       "        text-align: right;\n",
       "    }\n",
       "</style>\n",
       "<table border=\"1\" class=\"dataframe\">\n",
       "  <thead>\n",
       "    <tr style=\"text-align: right;\">\n",
       "      <th></th>\n",
       "      <th>Unnamed: 0</th>\n",
       "      <th>milhas_por_ano</th>\n",
       "      <th>ano_do_modelo</th>\n",
       "      <th>preco</th>\n",
       "      <th>vendido</th>\n",
       "      <th>idade_do_modelo</th>\n",
       "      <th>km_por_ano</th>\n",
       "    </tr>\n",
       "  </thead>\n",
       "  <tbody>\n",
       "    <tr>\n",
       "      <th>0</th>\n",
       "      <td>0</td>\n",
       "      <td>21801</td>\n",
       "      <td>2000</td>\n",
       "      <td>30941.02</td>\n",
       "      <td>1</td>\n",
       "      <td>23</td>\n",
       "      <td>35085.22134</td>\n",
       "    </tr>\n",
       "    <tr>\n",
       "      <th>1</th>\n",
       "      <td>1</td>\n",
       "      <td>7843</td>\n",
       "      <td>1998</td>\n",
       "      <td>40557.96</td>\n",
       "      <td>1</td>\n",
       "      <td>25</td>\n",
       "      <td>12622.05362</td>\n",
       "    </tr>\n",
       "    <tr>\n",
       "      <th>2</th>\n",
       "      <td>2</td>\n",
       "      <td>7109</td>\n",
       "      <td>2006</td>\n",
       "      <td>89627.50</td>\n",
       "      <td>0</td>\n",
       "      <td>17</td>\n",
       "      <td>11440.79806</td>\n",
       "    </tr>\n",
       "    <tr>\n",
       "      <th>3</th>\n",
       "      <td>3</td>\n",
       "      <td>26823</td>\n",
       "      <td>2015</td>\n",
       "      <td>95276.14</td>\n",
       "      <td>0</td>\n",
       "      <td>8</td>\n",
       "      <td>43167.32682</td>\n",
       "    </tr>\n",
       "    <tr>\n",
       "      <th>4</th>\n",
       "      <td>4</td>\n",
       "      <td>7935</td>\n",
       "      <td>2014</td>\n",
       "      <td>117384.68</td>\n",
       "      <td>1</td>\n",
       "      <td>9</td>\n",
       "      <td>12770.11290</td>\n",
       "    </tr>\n",
       "  </tbody>\n",
       "</table>\n",
       "</div>"
      ],
      "text/plain": [
       "   Unnamed: 0  milhas_por_ano  ano_do_modelo      preco  vendido  \\\n",
       "0           0           21801           2000   30941.02        1   \n",
       "1           1            7843           1998   40557.96        1   \n",
       "2           2            7109           2006   89627.50        0   \n",
       "3           3           26823           2015   95276.14        0   \n",
       "4           4            7935           2014  117384.68        1   \n",
       "\n",
       "   idade_do_modelo   km_por_ano  \n",
       "0               23  35085.22134  \n",
       "1               25  12622.05362  \n",
       "2               17  11440.79806  \n",
       "3                8  43167.32682  \n",
       "4                9  12770.11290  "
      ]
     },
     "execution_count": 7,
     "metadata": {},
     "output_type": "execute_result"
    }
   ],
   "source": [
    "dados[\"km_por_ano\"] = dados[\"milhas_por_ano\"]*1.60934\n",
    "dados.head()"
   ]
  },
  {
   "cell_type": "code",
   "execution_count": 8,
   "metadata": {},
   "outputs": [
    {
     "data": {
      "text/html": [
       "<div>\n",
       "<style scoped>\n",
       "    .dataframe tbody tr th:only-of-type {\n",
       "        vertical-align: middle;\n",
       "    }\n",
       "\n",
       "    .dataframe tbody tr th {\n",
       "        vertical-align: top;\n",
       "    }\n",
       "\n",
       "    .dataframe thead th {\n",
       "        text-align: right;\n",
       "    }\n",
       "</style>\n",
       "<table border=\"1\" class=\"dataframe\">\n",
       "  <thead>\n",
       "    <tr style=\"text-align: right;\">\n",
       "      <th></th>\n",
       "      <th>preco</th>\n",
       "      <th>vendido</th>\n",
       "      <th>idade_do_modelo</th>\n",
       "      <th>km_por_ano</th>\n",
       "    </tr>\n",
       "  </thead>\n",
       "  <tbody>\n",
       "    <tr>\n",
       "      <th>0</th>\n",
       "      <td>30941.02</td>\n",
       "      <td>1</td>\n",
       "      <td>23</td>\n",
       "      <td>35085.22134</td>\n",
       "    </tr>\n",
       "    <tr>\n",
       "      <th>1</th>\n",
       "      <td>40557.96</td>\n",
       "      <td>1</td>\n",
       "      <td>25</td>\n",
       "      <td>12622.05362</td>\n",
       "    </tr>\n",
       "    <tr>\n",
       "      <th>2</th>\n",
       "      <td>89627.50</td>\n",
       "      <td>0</td>\n",
       "      <td>17</td>\n",
       "      <td>11440.79806</td>\n",
       "    </tr>\n",
       "    <tr>\n",
       "      <th>3</th>\n",
       "      <td>95276.14</td>\n",
       "      <td>0</td>\n",
       "      <td>8</td>\n",
       "      <td>43167.32682</td>\n",
       "    </tr>\n",
       "    <tr>\n",
       "      <th>4</th>\n",
       "      <td>117384.68</td>\n",
       "      <td>1</td>\n",
       "      <td>9</td>\n",
       "      <td>12770.11290</td>\n",
       "    </tr>\n",
       "  </tbody>\n",
       "</table>\n",
       "</div>"
      ],
      "text/plain": [
       "       preco  vendido  idade_do_modelo   km_por_ano\n",
       "0   30941.02        1               23  35085.22134\n",
       "1   40557.96        1               25  12622.05362\n",
       "2   89627.50        0               17  11440.79806\n",
       "3   95276.14        0                8  43167.32682\n",
       "4  117384.68        1                9  12770.11290"
      ]
     },
     "execution_count": 8,
     "metadata": {},
     "output_type": "execute_result"
    }
   ],
   "source": [
    "dados.drop(columns=[\"Unnamed: 0\", \"milhas_por_ano\", \"ano_do_modelo\"], inplace=True, axis=\"columns\")\n",
    "dados.head()"
   ]
  },
  {
   "cell_type": "code",
   "execution_count": 9,
   "metadata": {},
   "outputs": [
    {
     "data": {
      "text/html": [
       "<div>\n",
       "<style scoped>\n",
       "    .dataframe tbody tr th:only-of-type {\n",
       "        vertical-align: middle;\n",
       "    }\n",
       "\n",
       "    .dataframe tbody tr th {\n",
       "        vertical-align: top;\n",
       "    }\n",
       "\n",
       "    .dataframe thead th {\n",
       "        text-align: right;\n",
       "    }\n",
       "</style>\n",
       "<table border=\"1\" class=\"dataframe\">\n",
       "  <thead>\n",
       "    <tr style=\"text-align: right;\">\n",
       "      <th></th>\n",
       "      <th>preco</th>\n",
       "      <th>idade_do_modelo</th>\n",
       "      <th>km_por_ano</th>\n",
       "    </tr>\n",
       "  </thead>\n",
       "  <tbody>\n",
       "    <tr>\n",
       "      <th>0</th>\n",
       "      <td>30941.02</td>\n",
       "      <td>23</td>\n",
       "      <td>35085.22134</td>\n",
       "    </tr>\n",
       "    <tr>\n",
       "      <th>1</th>\n",
       "      <td>40557.96</td>\n",
       "      <td>25</td>\n",
       "      <td>12622.05362</td>\n",
       "    </tr>\n",
       "    <tr>\n",
       "      <th>2</th>\n",
       "      <td>89627.50</td>\n",
       "      <td>17</td>\n",
       "      <td>11440.79806</td>\n",
       "    </tr>\n",
       "    <tr>\n",
       "      <th>3</th>\n",
       "      <td>95276.14</td>\n",
       "      <td>8</td>\n",
       "      <td>43167.32682</td>\n",
       "    </tr>\n",
       "    <tr>\n",
       "      <th>4</th>\n",
       "      <td>117384.68</td>\n",
       "      <td>9</td>\n",
       "      <td>12770.11290</td>\n",
       "    </tr>\n",
       "  </tbody>\n",
       "</table>\n",
       "</div>"
      ],
      "text/plain": [
       "       preco  idade_do_modelo   km_por_ano\n",
       "0   30941.02               23  35085.22134\n",
       "1   40557.96               25  12622.05362\n",
       "2   89627.50               17  11440.79806\n",
       "3   95276.14                8  43167.32682\n",
       "4  117384.68                9  12770.11290"
      ]
     },
     "metadata": {},
     "output_type": "display_data"
    },
    {
     "data": {
      "text/html": [
       "<div>\n",
       "<style scoped>\n",
       "    .dataframe tbody tr th:only-of-type {\n",
       "        vertical-align: middle;\n",
       "    }\n",
       "\n",
       "    .dataframe tbody tr th {\n",
       "        vertical-align: top;\n",
       "    }\n",
       "\n",
       "    .dataframe thead th {\n",
       "        text-align: right;\n",
       "    }\n",
       "</style>\n",
       "<table border=\"1\" class=\"dataframe\">\n",
       "  <thead>\n",
       "    <tr style=\"text-align: right;\">\n",
       "      <th></th>\n",
       "      <th>vendido</th>\n",
       "    </tr>\n",
       "  </thead>\n",
       "  <tbody>\n",
       "    <tr>\n",
       "      <th>0</th>\n",
       "      <td>1</td>\n",
       "    </tr>\n",
       "    <tr>\n",
       "      <th>1</th>\n",
       "      <td>1</td>\n",
       "    </tr>\n",
       "    <tr>\n",
       "      <th>2</th>\n",
       "      <td>0</td>\n",
       "    </tr>\n",
       "    <tr>\n",
       "      <th>3</th>\n",
       "      <td>0</td>\n",
       "    </tr>\n",
       "    <tr>\n",
       "      <th>4</th>\n",
       "      <td>1</td>\n",
       "    </tr>\n",
       "  </tbody>\n",
       "</table>\n",
       "</div>"
      ],
      "text/plain": [
       "   vendido\n",
       "0        1\n",
       "1        1\n",
       "2        0\n",
       "3        0\n",
       "4        1"
      ]
     },
     "metadata": {},
     "output_type": "display_data"
    }
   ],
   "source": [
    "x = dados[[\"preco\", \"idade_do_modelo\", \"km_por_ano\"]]\n",
    "y = dados[[\"vendido\"]]\n",
    "display(x.head(), y.head())"
   ]
  },
  {
   "cell_type": "code",
   "execution_count": 10,
   "metadata": {},
   "outputs": [
    {
     "name": "stdout",
     "output_type": "stream",
     "text": [
      "Treinamos com 7500 elementos de x e 7500 elementos de y. \n",
      "Testamos com 2500 elementos de x e 2500 elementos de y.\n"
     ]
    },
    {
     "name": "stderr",
     "output_type": "stream",
     "text": [
      "c:\\Users\\Gustavo S Schultz\\AppData\\Local\\Programs\\Python\\Python311\\Lib\\site-packages\\sklearn\\utils\\validation.py:1184: DataConversionWarning: A column-vector y was passed when a 1d array was expected. Please change the shape of y to (n_samples, ), for example using ravel().\n",
      "  y = column_or_1d(y, warn=True)\n",
      "c:\\Users\\Gustavo S Schultz\\AppData\\Local\\Programs\\Python\\Python311\\Lib\\site-packages\\sklearn\\svm\\_classes.py:32: FutureWarning: The default value of `dual` will change from `True` to `'auto'` in 1.5. Set the value of `dual` explicitly to suppress the warning.\n",
      "  warnings.warn(\n"
     ]
    },
    {
     "name": "stdout",
     "output_type": "stream",
     "text": [
      "\n",
      "A taxa de acerto do modelo é de 46.88%\n",
      "\n"
     ]
    },
    {
     "name": "stderr",
     "output_type": "stream",
     "text": [
      "c:\\Users\\Gustavo S Schultz\\AppData\\Local\\Programs\\Python\\Python311\\Lib\\site-packages\\sklearn\\svm\\_base.py:1242: ConvergenceWarning: Liblinear failed to converge, increase the number of iterations.\n",
      "  warnings.warn(\n"
     ]
    }
   ],
   "source": [
    "from sklearn.svm import LinearSVC\n",
    "from sklearn.metrics import accuracy_score\n",
    "from sklearn.model_selection import train_test_split\n",
    "\n",
    "seed = 5\n",
    "np.random.seed(seed)\n",
    "\n",
    "treino_x, teste_x, treino_y, teste_y = train_test_split(x, y,\n",
    "                                                        test_size=0.25,\n",
    "                                                        stratify=y)\n",
    "print (f\"Treinamos com {treino_x.shape[0]} elementos de x e {treino_y.shape[0]} elementos de y. \\nTestamos com {teste_x.shape[0]} elementos de x e {teste_y.shape[0]} elementos de y.\")\n",
    "\n",
    "modelo = LinearSVC()\n",
    "modelo.fit(treino_x, treino_y)\n",
    "previsoes = modelo.predict(teste_x)\n",
    "\n",
    "acuracia = accuracy_score(teste_y, previsoes)\n",
    "print(f\"\\nA taxa de acerto do modelo é de {acuracia*100:.2f}%\\n\")"
   ]
  },
  {
   "cell_type": "code",
   "execution_count": 11,
   "metadata": {},
   "outputs": [],
   "source": [
    "from sklearn.dummy import DummyClassifier"
   ]
  },
  {
   "cell_type": "code",
   "execution_count": 12,
   "metadata": {},
   "outputs": [
    {
     "name": "stdout",
     "output_type": "stream",
     "text": [
      "\n",
      "A taxa de acerto do dummy stratified é de 58.00%\n",
      "\n"
     ]
    }
   ],
   "source": [
    "dummy_stratified = DummyClassifier()\n",
    "\n",
    "dummy_stratified.fit(treino_x, treino_y)\n",
    "acuracia = dummy_stratified.score(teste_x, teste_y)\n",
    "\n",
    "print(f\"\\nA taxa de acerto do dummy stratified é de {acuracia*100:.2f}%\\n\")"
   ]
  },
  {
   "cell_type": "code",
   "execution_count": 13,
   "metadata": {},
   "outputs": [
    {
     "name": "stdout",
     "output_type": "stream",
     "text": [
      "\n",
      "A taxa de acerto do dummy most frequent é de 58.00%\n",
      "\n"
     ]
    }
   ],
   "source": [
    "dummy_most_frequente = DummyClassifier(strategy=\"most_frequent\")\n",
    "\n",
    "dummy_most_frequente.fit(treino_x, treino_y)\n",
    "acuracia = dummy_most_frequente.score(teste_x, teste_y)\n",
    "\n",
    "print(f\"\\nA taxa de acerto do dummy most frequent é de {acuracia*100:.2f}%\\n\")"
   ]
  },
  {
   "cell_type": "code",
   "execution_count": 14,
   "metadata": {},
   "outputs": [
    {
     "name": "stdout",
     "output_type": "stream",
     "text": [
      "Treinamos com 7500 elementos de x e 7500 elementos de y. \n",
      "Testamos com 2500 elementos de x e 2500 elementos de y.\n"
     ]
    },
    {
     "name": "stderr",
     "output_type": "stream",
     "text": [
      "c:\\Users\\Gustavo S Schultz\\AppData\\Local\\Programs\\Python\\Python311\\Lib\\site-packages\\sklearn\\utils\\validation.py:1184: DataConversionWarning: A column-vector y was passed when a 1d array was expected. Please change the shape of y to (n_samples, ), for example using ravel().\n",
      "  y = column_or_1d(y, warn=True)\n"
     ]
    },
    {
     "name": "stdout",
     "output_type": "stream",
     "text": [
      "\n",
      "A taxa de acerto do modelo é de 77.48%\n",
      "\n"
     ]
    }
   ],
   "source": [
    "from sklearn.svm import SVC\n",
    "from sklearn.preprocessing import StandardScaler\n",
    "from sklearn.metrics import accuracy_score\n",
    "from sklearn.model_selection import train_test_split\n",
    "\n",
    "seed = 5\n",
    "np.random.seed(seed)\n",
    "\n",
    "raw_treino_x, raw_teste_x, treino_y, teste_y = train_test_split(x, y,\n",
    "                                                        test_size=0.25,\n",
    "                                                        stratify=y)\n",
    "print (f\"Treinamos com {treino_x.shape[0]} elementos de x e {treino_y.shape[0]} elementos de y. \\nTestamos com {teste_x.shape[0]} elementos de x e {teste_y.shape[0]} elementos de y.\")\n",
    "\n",
    "scaler = StandardScaler()\n",
    "scaler.fit(raw_treino_x)\n",
    "treino_x = scaler.transform(raw_treino_x)\n",
    "teste_x = scaler.transform(raw_teste_x)\n",
    "\n",
    "modelo = SVC(gamma=\"auto\")\n",
    "modelo.fit(treino_x, treino_y)\n",
    "previsoes = modelo.predict(teste_x)\n",
    "\n",
    "acuracia = accuracy_score(teste_y, previsoes)\n",
    "print(f\"\\nA taxa de acerto do modelo é de {acuracia*100:.2f}%\\n\")"
   ]
  },
  {
   "cell_type": "code",
   "execution_count": 15,
   "metadata": {},
   "outputs": [
    {
     "name": "stdout",
     "output_type": "stream",
     "text": [
      "Treinamos com 7500 elementos de x e 7500 elementos de y. \n",
      "Testamos com 2500 elementos de x e 2500 elementos de y.\n",
      "\n",
      "A taxa de acerto do modelo é de 76.84%\n",
      "\n"
     ]
    }
   ],
   "source": [
    "from sklearn.tree import DecisionTreeClassifier\n",
    "from sklearn.preprocessing import StandardScaler\n",
    "from sklearn.metrics import accuracy_score\n",
    "from sklearn.model_selection import train_test_split\n",
    "\n",
    "seed = 5\n",
    "np.random.seed(seed)\n",
    "\n",
    "raw_treino_x, raw_teste_x, treino_y, teste_y = train_test_split(x, y,\n",
    "                                                        test_size=0.25,\n",
    "                                                        stratify=y)\n",
    "print (f\"Treinamos com {treino_x.shape[0]} elementos de x e {treino_y.shape[0]} elementos de y. \\nTestamos com {teste_x.shape[0]} elementos de x e {teste_y.shape[0]} elementos de y.\")\n",
    "\n",
    "# scaler = StandardScaler()\n",
    "# scaler.fit(raw_treino_x)\n",
    "# treino_x = scaler.transform(raw_treino_x)\n",
    "# teste_x = scaler.transform(raw_teste_x)\n",
    "\n",
    "modelo = DecisionTreeClassifier(max_depth=2)\n",
    "modelo.fit(raw_treino_x, treino_y)\n",
    "previsoes = modelo.predict(raw_teste_x)\n",
    "\n",
    "acuracia = accuracy_score(teste_y, previsoes)\n",
    "print(f\"\\nA taxa de acerto do modelo é de {acuracia*100:.2f}%\\n\")"
   ]
  },
  {
   "cell_type": "code",
   "execution_count": 16,
   "metadata": {},
   "outputs": [],
   "source": [
    "from sklearn.tree import export_graphviz\n",
    "import graphviz"
   ]
  },
  {
   "cell_type": "code",
   "execution_count": 17,
   "metadata": {},
   "outputs": [
    {
     "data": {
      "image/svg+xml": [
       "<?xml version=\"1.0\" encoding=\"UTF-8\" standalone=\"no\"?>\n",
       "<!DOCTYPE svg PUBLIC \"-//W3C//DTD SVG 1.1//EN\"\n",
       " \"http://www.w3.org/Graphics/SVG/1.1/DTD/svg11.dtd\">\n",
       "<!-- Generated by graphviz version 9.0.0 (20230911.1827)\n",
       " -->\n",
       "<!-- Title: Tree Pages: 1 -->\n",
       "<svg width=\"604pt\" height=\"286pt\"\n",
       " viewBox=\"0.00 0.00 604.25 285.50\" xmlns=\"http://www.w3.org/2000/svg\" xmlns:xlink=\"http://www.w3.org/1999/xlink\">\n",
       "<g id=\"graph0\" class=\"graph\" transform=\"scale(1 1) rotate(0) translate(4 281.5)\">\n",
       "<title>Tree</title>\n",
       "<polygon fill=\"white\" stroke=\"none\" points=\"-4,4 -4,-281.5 600.25,-281.5 600.25,4 -4,4\"/>\n",
       "<!-- 0 -->\n",
       "<g id=\"node1\" class=\"node\">\n",
       "<title>0</title>\n",
       "<polygon fill=\"none\" stroke=\"black\" points=\"360.38,-277.5 214.62,-277.5 214.62,-203.5 360.38,-203.5 360.38,-277.5\"/>\n",
       "<text text-anchor=\"middle\" x=\"287.5\" y=\"-260.2\" font-family=\"Helvetica,sans-Serif\" font-size=\"14.00\">x[0] &lt;= 59999.074</text>\n",
       "<text text-anchor=\"middle\" x=\"287.5\" y=\"-243.7\" font-family=\"Helvetica,sans-Serif\" font-size=\"14.00\">gini = 0.487</text>\n",
       "<text text-anchor=\"middle\" x=\"287.5\" y=\"-227.2\" font-family=\"Helvetica,sans-Serif\" font-size=\"14.00\">samples = 7500</text>\n",
       "<text text-anchor=\"middle\" x=\"287.5\" y=\"-210.7\" font-family=\"Helvetica,sans-Serif\" font-size=\"14.00\">value = [3150, 4350]</text>\n",
       "</g>\n",
       "<!-- 1 -->\n",
       "<g id=\"node2\" class=\"node\">\n",
       "<title>1</title>\n",
       "<polygon fill=\"none\" stroke=\"black\" points=\"276.25,-167.5 138.75,-167.5 138.75,-93.5 276.25,-93.5 276.25,-167.5\"/>\n",
       "<text text-anchor=\"middle\" x=\"207.5\" y=\"-150.2\" font-family=\"Helvetica,sans-Serif\" font-size=\"14.00\">x[0] &lt;= 40070.154</text>\n",
       "<text text-anchor=\"middle\" x=\"207.5\" y=\"-133.7\" font-family=\"Helvetica,sans-Serif\" font-size=\"14.00\">gini = 0.202</text>\n",
       "<text text-anchor=\"middle\" x=\"207.5\" y=\"-117.2\" font-family=\"Helvetica,sans-Serif\" font-size=\"14.00\">samples = 3248</text>\n",
       "<text text-anchor=\"middle\" x=\"207.5\" y=\"-100.7\" font-family=\"Helvetica,sans-Serif\" font-size=\"14.00\">value = [370, 2878]</text>\n",
       "</g>\n",
       "<!-- 0&#45;&gt;1 -->\n",
       "<g id=\"edge1\" class=\"edge\">\n",
       "<title>0&#45;&gt;1</title>\n",
       "<path fill=\"none\" stroke=\"black\" d=\"M260.64,-203.24C254.37,-194.78 247.62,-185.66 241.1,-176.87\"/>\n",
       "<polygon fill=\"black\" stroke=\"black\" points=\"244.09,-175.02 235.33,-169.07 238.47,-179.19 244.09,-175.02\"/>\n",
       "<text text-anchor=\"middle\" x=\"230.74\" y=\"-187.53\" font-family=\"Helvetica,sans-Serif\" font-size=\"14.00\">True</text>\n",
       "</g>\n",
       "<!-- 4 -->\n",
       "<g id=\"node5\" class=\"node\">\n",
       "<title>4</title>\n",
       "<polygon fill=\"none\" stroke=\"black\" points=\"440.38,-167.5 294.62,-167.5 294.62,-93.5 440.38,-93.5 440.38,-167.5\"/>\n",
       "<text text-anchor=\"middle\" x=\"367.5\" y=\"-150.2\" font-family=\"Helvetica,sans-Serif\" font-size=\"14.00\">x[2] &lt;= 24112.741</text>\n",
       "<text text-anchor=\"middle\" x=\"367.5\" y=\"-133.7\" font-family=\"Helvetica,sans-Serif\" font-size=\"14.00\">gini = 0.453</text>\n",
       "<text text-anchor=\"middle\" x=\"367.5\" y=\"-117.2\" font-family=\"Helvetica,sans-Serif\" font-size=\"14.00\">samples = 4252</text>\n",
       "<text text-anchor=\"middle\" x=\"367.5\" y=\"-100.7\" font-family=\"Helvetica,sans-Serif\" font-size=\"14.00\">value = [2780, 1472]</text>\n",
       "</g>\n",
       "<!-- 0&#45;&gt;4 -->\n",
       "<g id=\"edge4\" class=\"edge\">\n",
       "<title>0&#45;&gt;4</title>\n",
       "<path fill=\"none\" stroke=\"black\" d=\"M314.36,-203.24C320.63,-194.78 327.38,-185.66 333.9,-176.87\"/>\n",
       "<polygon fill=\"black\" stroke=\"black\" points=\"336.53,-179.19 339.67,-169.07 330.91,-175.02 336.53,-179.19\"/>\n",
       "<text text-anchor=\"middle\" x=\"344.26\" y=\"-187.53\" font-family=\"Helvetica,sans-Serif\" font-size=\"14.00\">False</text>\n",
       "</g>\n",
       "<!-- 2 -->\n",
       "<g id=\"node3\" class=\"node\">\n",
       "<title>2</title>\n",
       "<polygon fill=\"none\" stroke=\"black\" points=\"121,-57.5 0,-57.5 0,0 121,0 121,-57.5\"/>\n",
       "<text text-anchor=\"middle\" x=\"60.5\" y=\"-40.2\" font-family=\"Helvetica,sans-Serif\" font-size=\"14.00\">gini = 0.0</text>\n",
       "<text text-anchor=\"middle\" x=\"60.5\" y=\"-23.7\" font-family=\"Helvetica,sans-Serif\" font-size=\"14.00\">samples = 1441</text>\n",
       "<text text-anchor=\"middle\" x=\"60.5\" y=\"-7.2\" font-family=\"Helvetica,sans-Serif\" font-size=\"14.00\">value = [0, 1441]</text>\n",
       "</g>\n",
       "<!-- 1&#45;&gt;2 -->\n",
       "<g id=\"edge2\" class=\"edge\">\n",
       "<title>1&#45;&gt;2</title>\n",
       "<path fill=\"none\" stroke=\"black\" d=\"M154.01,-93.21C140.01,-83.7 124.95,-73.48 111.1,-64.09\"/>\n",
       "<polygon fill=\"black\" stroke=\"black\" points=\"113.22,-61.3 102.98,-58.58 109.29,-67.09 113.22,-61.3\"/>\n",
       "</g>\n",
       "<!-- 3 -->\n",
       "<g id=\"node4\" class=\"node\">\n",
       "<title>3</title>\n",
       "<polygon fill=\"none\" stroke=\"black\" points=\"276.25,-57.5 138.75,-57.5 138.75,0 276.25,0 276.25,-57.5\"/>\n",
       "<text text-anchor=\"middle\" x=\"207.5\" y=\"-40.2\" font-family=\"Helvetica,sans-Serif\" font-size=\"14.00\">gini = 0.326</text>\n",
       "<text text-anchor=\"middle\" x=\"207.5\" y=\"-23.7\" font-family=\"Helvetica,sans-Serif\" font-size=\"14.00\">samples = 1807</text>\n",
       "<text text-anchor=\"middle\" x=\"207.5\" y=\"-7.2\" font-family=\"Helvetica,sans-Serif\" font-size=\"14.00\">value = [370, 1437]</text>\n",
       "</g>\n",
       "<!-- 1&#45;&gt;3 -->\n",
       "<g id=\"edge3\" class=\"edge\">\n",
       "<title>1&#45;&gt;3</title>\n",
       "<path fill=\"none\" stroke=\"black\" d=\"M207.5,-93.21C207.5,-85.35 207.5,-77 207.5,-69.03\"/>\n",
       "<polygon fill=\"black\" stroke=\"black\" points=\"211,-69.24 207.5,-59.24 204,-69.24 211,-69.24\"/>\n",
       "</g>\n",
       "<!-- 5 -->\n",
       "<g id=\"node6\" class=\"node\">\n",
       "<title>5</title>\n",
       "<polygon fill=\"none\" stroke=\"black\" points=\"440.38,-57.5 294.62,-57.5 294.62,0 440.38,0 440.38,-57.5\"/>\n",
       "<text text-anchor=\"middle\" x=\"367.5\" y=\"-40.2\" font-family=\"Helvetica,sans-Serif\" font-size=\"14.00\">gini = 0.498</text>\n",
       "<text text-anchor=\"middle\" x=\"367.5\" y=\"-23.7\" font-family=\"Helvetica,sans-Serif\" font-size=\"14.00\">samples = 2649</text>\n",
       "<text text-anchor=\"middle\" x=\"367.5\" y=\"-7.2\" font-family=\"Helvetica,sans-Serif\" font-size=\"14.00\">value = [1409, 1240]</text>\n",
       "</g>\n",
       "<!-- 4&#45;&gt;5 -->\n",
       "<g id=\"edge5\" class=\"edge\">\n",
       "<title>4&#45;&gt;5</title>\n",
       "<path fill=\"none\" stroke=\"black\" d=\"M367.5,-93.21C367.5,-85.35 367.5,-77 367.5,-69.03\"/>\n",
       "<polygon fill=\"black\" stroke=\"black\" points=\"371,-69.24 367.5,-59.24 364,-69.24 371,-69.24\"/>\n",
       "</g>\n",
       "<!-- 6 -->\n",
       "<g id=\"node7\" class=\"node\">\n",
       "<title>6</title>\n",
       "<polygon fill=\"none\" stroke=\"black\" points=\"596.25,-57.5 458.75,-57.5 458.75,0 596.25,0 596.25,-57.5\"/>\n",
       "<text text-anchor=\"middle\" x=\"527.5\" y=\"-40.2\" font-family=\"Helvetica,sans-Serif\" font-size=\"14.00\">gini = 0.248</text>\n",
       "<text text-anchor=\"middle\" x=\"527.5\" y=\"-23.7\" font-family=\"Helvetica,sans-Serif\" font-size=\"14.00\">samples = 1603</text>\n",
       "<text text-anchor=\"middle\" x=\"527.5\" y=\"-7.2\" font-family=\"Helvetica,sans-Serif\" font-size=\"14.00\">value = [1371, 232]</text>\n",
       "</g>\n",
       "<!-- 4&#45;&gt;6 -->\n",
       "<g id=\"edge6\" class=\"edge\">\n",
       "<title>4&#45;&gt;6</title>\n",
       "<path fill=\"none\" stroke=\"black\" d=\"M425.72,-93.21C441.04,-83.66 457.51,-73.39 472.64,-63.95\"/>\n",
       "<polygon fill=\"black\" stroke=\"black\" points=\"474.45,-66.95 481.09,-58.69 470.75,-61.01 474.45,-66.95\"/>\n",
       "</g>\n",
       "</g>\n",
       "</svg>\n"
      ],
      "text/plain": [
       "<graphviz.sources.Source at 0x2d07abe1250>"
      ]
     },
     "execution_count": 17,
     "metadata": {},
     "output_type": "execute_result"
    }
   ],
   "source": [
    "dot_data = export_graphviz(modelo, out_file=None)\n",
    "\n",
    "grafico = graphviz.Source(dot_data)\n",
    "grafico"
   ]
  },
  {
   "cell_type": "code",
   "execution_count": 18,
   "metadata": {},
   "outputs": [
    {
     "data": {
      "image/svg+xml": [
       "<?xml version=\"1.0\" encoding=\"UTF-8\" standalone=\"no\"?>\n",
       "<!DOCTYPE svg PUBLIC \"-//W3C//DTD SVG 1.1//EN\"\n",
       " \"http://www.w3.org/Graphics/SVG/1.1/DTD/svg11.dtd\">\n",
       "<!-- Generated by graphviz version 9.0.0 (20230911.1827)\n",
       " -->\n",
       "<!-- Title: Tree Pages: 1 -->\n",
       "<svg width=\"617pt\" height=\"335pt\"\n",
       " viewBox=\"0.00 0.00 617.25 335.00\" xmlns=\"http://www.w3.org/2000/svg\" xmlns:xlink=\"http://www.w3.org/1999/xlink\">\n",
       "<g id=\"graph0\" class=\"graph\" transform=\"scale(1 1) rotate(0) translate(4 331)\">\n",
       "<title>Tree</title>\n",
       "<polygon fill=\"white\" stroke=\"none\" points=\"-4,4 -4,-331 613.25,-331 613.25,4 -4,4\"/>\n",
       "<!-- 0 -->\n",
       "<g id=\"node1\" class=\"node\">\n",
       "<title>0</title>\n",
       "<path fill=\"#c8e4f8\" stroke=\"black\" d=\"M354.75,-327C354.75,-327 232.25,-327 232.25,-327 226.25,-327 220.25,-321 220.25,-315 220.25,-315 220.25,-248.5 220.25,-248.5 220.25,-242.5 226.25,-236.5 232.25,-236.5 232.25,-236.5 354.75,-236.5 354.75,-236.5 360.75,-236.5 366.75,-242.5 366.75,-248.5 366.75,-248.5 366.75,-315 366.75,-315 366.75,-321 360.75,-327 354.75,-327\"/>\n",
       "<text text-anchor=\"middle\" x=\"293.5\" y=\"-309.7\" font-family=\"Helvetica,sans-Serif\" font-size=\"14.00\">preco &lt;= 59999.074</text>\n",
       "<text text-anchor=\"middle\" x=\"293.5\" y=\"-293.2\" font-family=\"Helvetica,sans-Serif\" font-size=\"14.00\">gini = 0.487</text>\n",
       "<text text-anchor=\"middle\" x=\"293.5\" y=\"-276.7\" font-family=\"Helvetica,sans-Serif\" font-size=\"14.00\">samples = 7500</text>\n",
       "<text text-anchor=\"middle\" x=\"293.5\" y=\"-260.2\" font-family=\"Helvetica,sans-Serif\" font-size=\"14.00\">value = [3150, 4350]</text>\n",
       "<text text-anchor=\"middle\" x=\"293.5\" y=\"-243.7\" font-family=\"Helvetica,sans-Serif\" font-size=\"14.00\">class = sim</text>\n",
       "</g>\n",
       "<!-- 1 -->\n",
       "<g id=\"node2\" class=\"node\">\n",
       "<title>1</title>\n",
       "<path fill=\"#52aae8\" stroke=\"black\" d=\"M261.75,-200.5C261.75,-200.5 139.25,-200.5 139.25,-200.5 133.25,-200.5 127.25,-194.5 127.25,-188.5 127.25,-188.5 127.25,-122 127.25,-122 127.25,-116 133.25,-110 139.25,-110 139.25,-110 261.75,-110 261.75,-110 267.75,-110 273.75,-116 273.75,-122 273.75,-122 273.75,-188.5 273.75,-188.5 273.75,-194.5 267.75,-200.5 261.75,-200.5\"/>\n",
       "<text text-anchor=\"middle\" x=\"200.5\" y=\"-183.2\" font-family=\"Helvetica,sans-Serif\" font-size=\"14.00\">preco &lt;= 40070.154</text>\n",
       "<text text-anchor=\"middle\" x=\"200.5\" y=\"-166.7\" font-family=\"Helvetica,sans-Serif\" font-size=\"14.00\">gini = 0.202</text>\n",
       "<text text-anchor=\"middle\" x=\"200.5\" y=\"-150.2\" font-family=\"Helvetica,sans-Serif\" font-size=\"14.00\">samples = 3248</text>\n",
       "<text text-anchor=\"middle\" x=\"200.5\" y=\"-133.7\" font-family=\"Helvetica,sans-Serif\" font-size=\"14.00\">value = [370, 2878]</text>\n",
       "<text text-anchor=\"middle\" x=\"200.5\" y=\"-117.2\" font-family=\"Helvetica,sans-Serif\" font-size=\"14.00\">class = sim</text>\n",
       "</g>\n",
       "<!-- 0&#45;&gt;1 -->\n",
       "<g id=\"edge1\" class=\"edge\">\n",
       "<title>0&#45;&gt;1</title>\n",
       "<path fill=\"none\" stroke=\"black\" d=\"M260.19,-236.15C253.84,-227.66 247.14,-218.69 240.61,-209.95\"/>\n",
       "<polygon fill=\"black\" stroke=\"black\" points=\"243.59,-208.08 234.8,-202.17 237.98,-212.27 243.59,-208.08\"/>\n",
       "<text text-anchor=\"middle\" x=\"230.31\" y=\"-220.64\" font-family=\"Helvetica,sans-Serif\" font-size=\"14.00\">True</text>\n",
       "</g>\n",
       "<!-- 4 -->\n",
       "<g id=\"node5\" class=\"node\">\n",
       "<title>4</title>\n",
       "<path fill=\"#f3c4a2\" stroke=\"black\" d=\"M469.12,-200.5C469.12,-200.5 303.88,-200.5 303.88,-200.5 297.88,-200.5 291.88,-194.5 291.88,-188.5 291.88,-188.5 291.88,-122 291.88,-122 291.88,-116 297.88,-110 303.88,-110 303.88,-110 469.12,-110 469.12,-110 475.12,-110 481.12,-116 481.12,-122 481.12,-122 481.12,-188.5 481.12,-188.5 481.12,-194.5 475.12,-200.5 469.12,-200.5\"/>\n",
       "<text text-anchor=\"middle\" x=\"386.5\" y=\"-183.2\" font-family=\"Helvetica,sans-Serif\" font-size=\"14.00\">km_por_ano &lt;= 24112.741</text>\n",
       "<text text-anchor=\"middle\" x=\"386.5\" y=\"-166.7\" font-family=\"Helvetica,sans-Serif\" font-size=\"14.00\">gini = 0.453</text>\n",
       "<text text-anchor=\"middle\" x=\"386.5\" y=\"-150.2\" font-family=\"Helvetica,sans-Serif\" font-size=\"14.00\">samples = 4252</text>\n",
       "<text text-anchor=\"middle\" x=\"386.5\" y=\"-133.7\" font-family=\"Helvetica,sans-Serif\" font-size=\"14.00\">value = [2780, 1472]</text>\n",
       "<text text-anchor=\"middle\" x=\"386.5\" y=\"-117.2\" font-family=\"Helvetica,sans-Serif\" font-size=\"14.00\">class = não</text>\n",
       "</g>\n",
       "<!-- 0&#45;&gt;4 -->\n",
       "<g id=\"edge4\" class=\"edge\">\n",
       "<title>0&#45;&gt;4</title>\n",
       "<path fill=\"none\" stroke=\"black\" d=\"M326.81,-236.15C333.16,-227.66 339.86,-218.69 346.39,-209.95\"/>\n",
       "<polygon fill=\"black\" stroke=\"black\" points=\"349.02,-212.27 352.2,-202.17 343.41,-208.08 349.02,-212.27\"/>\n",
       "<text text-anchor=\"middle\" x=\"356.69\" y=\"-220.64\" font-family=\"Helvetica,sans-Serif\" font-size=\"14.00\">False</text>\n",
       "</g>\n",
       "<!-- 2 -->\n",
       "<g id=\"node3\" class=\"node\">\n",
       "<title>2</title>\n",
       "<path fill=\"#399de5\" stroke=\"black\" d=\"M109,-74C109,-74 12,-74 12,-74 6,-74 0,-68 0,-62 0,-62 0,-12 0,-12 0,-6 6,0 12,0 12,0 109,0 109,0 115,0 121,-6 121,-12 121,-12 121,-62 121,-62 121,-68 115,-74 109,-74\"/>\n",
       "<text text-anchor=\"middle\" x=\"60.5\" y=\"-56.7\" font-family=\"Helvetica,sans-Serif\" font-size=\"14.00\">gini = 0.0</text>\n",
       "<text text-anchor=\"middle\" x=\"60.5\" y=\"-40.2\" font-family=\"Helvetica,sans-Serif\" font-size=\"14.00\">samples = 1441</text>\n",
       "<text text-anchor=\"middle\" x=\"60.5\" y=\"-23.7\" font-family=\"Helvetica,sans-Serif\" font-size=\"14.00\">value = [0, 1441]</text>\n",
       "<text text-anchor=\"middle\" x=\"60.5\" y=\"-7.2\" font-family=\"Helvetica,sans-Serif\" font-size=\"14.00\">class = sim</text>\n",
       "</g>\n",
       "<!-- 1&#45;&gt;2 -->\n",
       "<g id=\"edge2\" class=\"edge\">\n",
       "<title>1&#45;&gt;2</title>\n",
       "<path fill=\"none\" stroke=\"black\" d=\"M146.77,-109.64C135.7,-100.44 124.05,-90.77 113.02,-81.61\"/>\n",
       "<polygon fill=\"black\" stroke=\"black\" points=\"115.42,-79.06 105.49,-75.36 110.95,-84.44 115.42,-79.06\"/>\n",
       "</g>\n",
       "<!-- 3 -->\n",
       "<g id=\"node4\" class=\"node\">\n",
       "<title>3</title>\n",
       "<path fill=\"#6cb6ec\" stroke=\"black\" d=\"M264.25,-74C264.25,-74 150.75,-74 150.75,-74 144.75,-74 138.75,-68 138.75,-62 138.75,-62 138.75,-12 138.75,-12 138.75,-6 144.75,0 150.75,0 150.75,0 264.25,0 264.25,0 270.25,0 276.25,-6 276.25,-12 276.25,-12 276.25,-62 276.25,-62 276.25,-68 270.25,-74 264.25,-74\"/>\n",
       "<text text-anchor=\"middle\" x=\"207.5\" y=\"-56.7\" font-family=\"Helvetica,sans-Serif\" font-size=\"14.00\">gini = 0.326</text>\n",
       "<text text-anchor=\"middle\" x=\"207.5\" y=\"-40.2\" font-family=\"Helvetica,sans-Serif\" font-size=\"14.00\">samples = 1807</text>\n",
       "<text text-anchor=\"middle\" x=\"207.5\" y=\"-23.7\" font-family=\"Helvetica,sans-Serif\" font-size=\"14.00\">value = [370, 1437]</text>\n",
       "<text text-anchor=\"middle\" x=\"207.5\" y=\"-7.2\" font-family=\"Helvetica,sans-Serif\" font-size=\"14.00\">class = sim</text>\n",
       "</g>\n",
       "<!-- 1&#45;&gt;3 -->\n",
       "<g id=\"edge3\" class=\"edge\">\n",
       "<title>1&#45;&gt;3</title>\n",
       "<path fill=\"none\" stroke=\"black\" d=\"M203.19,-109.64C203.66,-101.81 204.15,-93.63 204.63,-85.72\"/>\n",
       "<polygon fill=\"black\" stroke=\"black\" points=\"208.11,-86.1 205.22,-75.9 201.12,-85.68 208.11,-86.1\"/>\n",
       "</g>\n",
       "<!-- 5 -->\n",
       "<g id=\"node6\" class=\"node\">\n",
       "<title>5</title>\n",
       "<path fill=\"#fcf0e7\" stroke=\"black\" d=\"M441.38,-74C441.38,-74 319.62,-74 319.62,-74 313.62,-74 307.62,-68 307.62,-62 307.62,-62 307.62,-12 307.62,-12 307.62,-6 313.62,0 319.62,0 319.62,0 441.38,0 441.38,0 447.38,0 453.38,-6 453.38,-12 453.38,-12 453.38,-62 453.38,-62 453.38,-68 447.38,-74 441.38,-74\"/>\n",
       "<text text-anchor=\"middle\" x=\"380.5\" y=\"-56.7\" font-family=\"Helvetica,sans-Serif\" font-size=\"14.00\">gini = 0.498</text>\n",
       "<text text-anchor=\"middle\" x=\"380.5\" y=\"-40.2\" font-family=\"Helvetica,sans-Serif\" font-size=\"14.00\">samples = 2649</text>\n",
       "<text text-anchor=\"middle\" x=\"380.5\" y=\"-23.7\" font-family=\"Helvetica,sans-Serif\" font-size=\"14.00\">value = [1409, 1240]</text>\n",
       "<text text-anchor=\"middle\" x=\"380.5\" y=\"-7.2\" font-family=\"Helvetica,sans-Serif\" font-size=\"14.00\">class = não</text>\n",
       "</g>\n",
       "<!-- 4&#45;&gt;5 -->\n",
       "<g id=\"edge5\" class=\"edge\">\n",
       "<title>4&#45;&gt;5</title>\n",
       "<path fill=\"none\" stroke=\"black\" d=\"M384.2,-109.64C383.79,-101.81 383.37,-93.63 382.96,-85.72\"/>\n",
       "<polygon fill=\"black\" stroke=\"black\" points=\"386.47,-85.71 382.46,-75.91 379.48,-86.07 386.47,-85.71\"/>\n",
       "</g>\n",
       "<!-- 6 -->\n",
       "<g id=\"node7\" class=\"node\">\n",
       "<title>6</title>\n",
       "<path fill=\"#e9965b\" stroke=\"black\" d=\"M597.25,-74C597.25,-74 483.75,-74 483.75,-74 477.75,-74 471.75,-68 471.75,-62 471.75,-62 471.75,-12 471.75,-12 471.75,-6 477.75,0 483.75,0 483.75,0 597.25,0 597.25,0 603.25,0 609.25,-6 609.25,-12 609.25,-12 609.25,-62 609.25,-62 609.25,-68 603.25,-74 597.25,-74\"/>\n",
       "<text text-anchor=\"middle\" x=\"540.5\" y=\"-56.7\" font-family=\"Helvetica,sans-Serif\" font-size=\"14.00\">gini = 0.248</text>\n",
       "<text text-anchor=\"middle\" x=\"540.5\" y=\"-40.2\" font-family=\"Helvetica,sans-Serif\" font-size=\"14.00\">samples = 1603</text>\n",
       "<text text-anchor=\"middle\" x=\"540.5\" y=\"-23.7\" font-family=\"Helvetica,sans-Serif\" font-size=\"14.00\">value = [1371, 232]</text>\n",
       "<text text-anchor=\"middle\" x=\"540.5\" y=\"-7.2\" font-family=\"Helvetica,sans-Serif\" font-size=\"14.00\">class = não</text>\n",
       "</g>\n",
       "<!-- 4&#45;&gt;6 -->\n",
       "<g id=\"edge6\" class=\"edge\">\n",
       "<title>4&#45;&gt;6</title>\n",
       "<path fill=\"none\" stroke=\"black\" d=\"M445.6,-109.64C458.02,-100.26 471.1,-90.39 483.45,-81.07\"/>\n",
       "<polygon fill=\"black\" stroke=\"black\" points=\"485.21,-84.12 491.08,-75.31 480.99,-78.54 485.21,-84.12\"/>\n",
       "</g>\n",
       "</g>\n",
       "</svg>\n"
      ],
      "text/plain": [
       "<graphviz.sources.Source at 0x2d07b20c7d0>"
      ]
     },
     "execution_count": 18,
     "metadata": {},
     "output_type": "execute_result"
    }
   ],
   "source": [
    "features = x.columns\n",
    "dot_data = export_graphviz(modelo, out_file=None,\n",
    "                           filled=True, rounded=True,\n",
    "                           feature_names=features,\n",
    "                           class_names=[\"não\", \"sim\"])\n",
    "\n",
    "grafico = graphviz.Source(dot_data)\n",
    "grafico"
   ]
  },
  {
   "cell_type": "code",
   "execution_count": 19,
   "metadata": {},
   "outputs": [
    {
     "name": "stdout",
     "output_type": "stream",
     "text": [
      "Treinamos com 7500 elementos de x e 7500 elementos de y. \n",
      "Testamos com 2500 elementos de x e 2500 elementos de y.\n",
      "\n",
      "A taxa de acerto do modelo é de 79.28%\n",
      "\n"
     ]
    }
   ],
   "source": [
    "from sklearn.tree import DecisionTreeClassifier\n",
    "from sklearn.preprocessing import StandardScaler\n",
    "from sklearn.metrics import accuracy_score\n",
    "from sklearn.model_selection import train_test_split\n",
    "\n",
    "seed = 5\n",
    "np.random.seed(seed)\n",
    "\n",
    "raw_treino_x, raw_teste_x, treino_y, teste_y = train_test_split(x, y,\n",
    "                                                        test_size=0.25,\n",
    "                                                        stratify=y)\n",
    "print (f\"Treinamos com {treino_x.shape[0]} elementos de x e {treino_y.shape[0]} elementos de y. \\nTestamos com {teste_x.shape[0]} elementos de x e {teste_y.shape[0]} elementos de y.\")\n",
    "\n",
    "# scaler = StandardScaler()\n",
    "# scaler.fit(raw_treino_x)\n",
    "# treino_x = scaler.transform(raw_treino_x)\n",
    "# teste_x = scaler.transform(raw_teste_x)\n",
    "\n",
    "modelo = DecisionTreeClassifier(max_depth=3)\n",
    "modelo.fit(raw_treino_x, treino_y)\n",
    "previsoes = modelo.predict(raw_teste_x)\n",
    "\n",
    "acuracia = accuracy_score(teste_y, previsoes)\n",
    "print(f\"\\nA taxa de acerto do modelo é de {acuracia*100:.2f}%\\n\")"
   ]
  },
  {
   "cell_type": "code",
   "execution_count": 20,
   "metadata": {},
   "outputs": [
    {
     "name": "stdout",
     "output_type": "stream",
     "text": [
      "Accuracy com Cross Validation, 3 = [74.99, 76.57]\n"
     ]
    }
   ],
   "source": [
    "from sklearn.model_selection import cross_validate\n",
    "\n",
    "seed = 301\n",
    "np.random.seed(seed)\n",
    "\n",
    "modelo = DecisionTreeClassifier(max_depth=2)\n",
    "results = cross_validate(modelo, x, y, cv=3, return_train_score=False)\n",
    "media = results[\"test_score\"].mean()\n",
    "desvio_padrao = results[\"test_score\"].std()\n",
    "\n",
    "print(f\"Accuracy com Cross Validation, 3 = [{(media - 2 * desvio_padrao)*100:.2f}, {(media + 2 * desvio_padrao)*100:.2f}]\")"
   ]
  },
  {
   "cell_type": "code",
   "execution_count": 21,
   "metadata": {},
   "outputs": [
    {
     "name": "stdout",
     "output_type": "stream",
     "text": [
      "Accuracy com Cross Validation, 10 = [74.24, 77.32]\n"
     ]
    }
   ],
   "source": [
    "from sklearn.model_selection import cross_validate\n",
    "\n",
    "seed = 301\n",
    "np.random.seed(seed)\n",
    "\n",
    "modelo = DecisionTreeClassifier(max_depth=2)\n",
    "results = cross_validate(modelo, x, y, cv=10, return_train_score=False)\n",
    "media = results[\"test_score\"].mean()\n",
    "desvio_padrao = results[\"test_score\"].std()\n",
    "\n",
    "print(f\"Accuracy com Cross Validation, 10 = [{(media - 2 * desvio_padrao)*100:.2f}, {(media + 2 * desvio_padrao)*100:.2f}]\")"
   ]
  },
  {
   "cell_type": "code",
   "execution_count": 22,
   "metadata": {},
   "outputs": [
    {
     "name": "stdout",
     "output_type": "stream",
     "text": [
      "Accuracy com Cross Validation, 5 = [75.21, 76.35]\n"
     ]
    }
   ],
   "source": [
    "from sklearn.model_selection import cross_validate\n",
    "\n",
    "seed = 301\n",
    "np.random.seed(seed)\n",
    "\n",
    "modelo = DecisionTreeClassifier(max_depth=2)\n",
    "results = cross_validate(modelo, x, y, cv=5, return_train_score=False)\n",
    "media = results[\"test_score\"].mean()\n",
    "desvio_padrao = results[\"test_score\"].std()\n",
    "\n",
    "print(f\"Accuracy com Cross Validation, 5 = [{(media - 2 * desvio_padrao)*100:.2f}, {(media + 2 * desvio_padrao)*100:.2f}]\")"
   ]
  },
  {
   "cell_type": "code",
   "execution_count": 23,
   "metadata": {},
   "outputs": [],
   "source": [
    "def imprime_results(results):\n",
    "    media = results[\"test_score\"].mean()\n",
    "    desvio_padrao = results[\"test_score\"].std()\n",
    "    print(f\"Accuracy médio: {media * 100:.2f}%\")\n",
    "    print(f\"Accuracy intervalo: {(media - 2 * desvio_padrao)*100:.2f}% a {(media + 2 * desvio_padrao)*100:.2f}%\")"
   ]
  },
  {
   "cell_type": "code",
   "execution_count": 24,
   "metadata": {},
   "outputs": [
    {
     "name": "stdout",
     "output_type": "stream",
     "text": [
      "Accuracy médio: 75.78%\n",
      "Accuracy intervalo: 74.37% a 77.19%\n"
     ]
    }
   ],
   "source": [
    "from sklearn.model_selection import cross_validate\n",
    "from sklearn.model_selection import KFold\n",
    "\n",
    "seed = 301\n",
    "np.random.seed(seed)\n",
    "\n",
    "cv = KFold(n_splits=10)\n",
    "modelo = DecisionTreeClassifier(max_depth=2)\n",
    "results = cross_validate(modelo, x, y, cv=cv, return_train_score=False)\n",
    "imprime_results(results)\n"
   ]
  },
  {
   "cell_type": "code",
   "execution_count": 25,
   "metadata": {},
   "outputs": [
    {
     "name": "stdout",
     "output_type": "stream",
     "text": [
      "Accuracy médio: 75.76%\n",
      "Accuracy intervalo: 73.26% a 78.26%\n"
     ]
    }
   ],
   "source": [
    "seed = 301\n",
    "np.random.seed(seed)\n",
    "\n",
    "cv = KFold(n_splits=10, shuffle=True)\n",
    "modelo = DecisionTreeClassifier(max_depth=2)\n",
    "results = cross_validate(modelo, x, y, cv=cv, return_train_score=False)\n",
    "imprime_results(results)"
   ]
  },
  {
   "cell_type": "code",
   "execution_count": 26,
   "metadata": {},
   "outputs": [
    {
     "data": {
      "text/html": [
       "<div>\n",
       "<style scoped>\n",
       "    .dataframe tbody tr th:only-of-type {\n",
       "        vertical-align: middle;\n",
       "    }\n",
       "\n",
       "    .dataframe tbody tr th {\n",
       "        vertical-align: top;\n",
       "    }\n",
       "\n",
       "    .dataframe thead th {\n",
       "        text-align: right;\n",
       "    }\n",
       "</style>\n",
       "<table border=\"1\" class=\"dataframe\">\n",
       "  <thead>\n",
       "    <tr style=\"text-align: right;\">\n",
       "      <th></th>\n",
       "      <th>preco</th>\n",
       "      <th>idade_do_modelo</th>\n",
       "      <th>km_por_ano</th>\n",
       "    </tr>\n",
       "  </thead>\n",
       "  <tbody>\n",
       "    <tr>\n",
       "      <th>4999</th>\n",
       "      <td>74023.29</td>\n",
       "      <td>17</td>\n",
       "      <td>24812.80412</td>\n",
       "    </tr>\n",
       "    <tr>\n",
       "      <th>5322</th>\n",
       "      <td>84843.49</td>\n",
       "      <td>18</td>\n",
       "      <td>23095.63834</td>\n",
       "    </tr>\n",
       "    <tr>\n",
       "      <th>5319</th>\n",
       "      <td>83100.27</td>\n",
       "      <td>24</td>\n",
       "      <td>36240.72746</td>\n",
       "    </tr>\n",
       "    <tr>\n",
       "      <th>5316</th>\n",
       "      <td>87932.13</td>\n",
       "      <td>21</td>\n",
       "      <td>32249.56426</td>\n",
       "    </tr>\n",
       "    <tr>\n",
       "      <th>5315</th>\n",
       "      <td>77937.01</td>\n",
       "      <td>20</td>\n",
       "      <td>28414.50704</td>\n",
       "    </tr>\n",
       "  </tbody>\n",
       "</table>\n",
       "</div>"
      ],
      "text/plain": [
       "         preco  idade_do_modelo   km_por_ano\n",
       "4999  74023.29               17  24812.80412\n",
       "5322  84843.49               18  23095.63834\n",
       "5319  83100.27               24  36240.72746\n",
       "5316  87932.13               21  32249.56426\n",
       "5315  77937.01               20  28414.50704"
      ]
     },
     "metadata": {},
     "output_type": "display_data"
    },
    {
     "data": {
      "text/html": [
       "<div>\n",
       "<style scoped>\n",
       "    .dataframe tbody tr th:only-of-type {\n",
       "        vertical-align: middle;\n",
       "    }\n",
       "\n",
       "    .dataframe tbody tr th {\n",
       "        vertical-align: top;\n",
       "    }\n",
       "\n",
       "    .dataframe thead th {\n",
       "        text-align: right;\n",
       "    }\n",
       "</style>\n",
       "<table border=\"1\" class=\"dataframe\">\n",
       "  <thead>\n",
       "    <tr style=\"text-align: right;\">\n",
       "      <th></th>\n",
       "      <th>vendido</th>\n",
       "    </tr>\n",
       "  </thead>\n",
       "  <tbody>\n",
       "    <tr>\n",
       "      <th>4999</th>\n",
       "      <td>0</td>\n",
       "    </tr>\n",
       "    <tr>\n",
       "      <th>5322</th>\n",
       "      <td>0</td>\n",
       "    </tr>\n",
       "    <tr>\n",
       "      <th>5319</th>\n",
       "      <td>0</td>\n",
       "    </tr>\n",
       "    <tr>\n",
       "      <th>5316</th>\n",
       "      <td>0</td>\n",
       "    </tr>\n",
       "    <tr>\n",
       "      <th>5315</th>\n",
       "      <td>0</td>\n",
       "    </tr>\n",
       "  </tbody>\n",
       "</table>\n",
       "</div>"
      ],
      "text/plain": [
       "      vendido\n",
       "4999        0\n",
       "5322        0\n",
       "5319        0\n",
       "5316        0\n",
       "5315        0"
      ]
     },
     "metadata": {},
     "output_type": "display_data"
    }
   ],
   "source": [
    "#Simulando um azar onde os dados vem ordenados e nao de forma aleatoria:\n",
    "\n",
    "dados_azar = dados.sort_values(\"vendido\", ascending=True)\n",
    "x_azar = dados_azar[[\"preco\", \"idade_do_modelo\", \"km_por_ano\"]]\n",
    "y_azar = dados_azar[[\"vendido\"]]\n",
    "display(x_azar.head(), y_azar.head())"
   ]
  },
  {
   "cell_type": "code",
   "execution_count": 27,
   "metadata": {},
   "outputs": [
    {
     "name": "stdout",
     "output_type": "stream",
     "text": [
      "Accuracy médio: 57.84%\n",
      "Accuracy intervalo: 34.29% a 81.39%\n"
     ]
    }
   ],
   "source": [
    "# Rodando com os dados ordenados:\n",
    "\n",
    "seed = 301\n",
    "np.random.seed(seed)\n",
    "\n",
    "cv = KFold(n_splits=10)\n",
    "modelo = DecisionTreeClassifier(max_depth=2)\n",
    "results = cross_validate(modelo, x_azar, y_azar, cv=cv, return_train_score=False)\n",
    "imprime_results(results)"
   ]
  },
  {
   "cell_type": "code",
   "execution_count": 28,
   "metadata": {},
   "outputs": [
    {
     "name": "stdout",
     "output_type": "stream",
     "text": [
      "Accuracy médio: 75.78%\n",
      "Accuracy intervalo: 72.30% a 79.26%\n"
     ]
    }
   ],
   "source": [
    "# Rodando com aleatoriedade para \"embaralhar\" os dados:\n",
    "\n",
    "seed = 301\n",
    "np.random.seed(seed)\n",
    "\n",
    "cv = KFold(n_splits=10, shuffle=True)\n",
    "modelo = DecisionTreeClassifier(max_depth=2)\n",
    "results = cross_validate(modelo, x_azar, y_azar, cv=cv, return_train_score=False)\n",
    "imprime_results(results)"
   ]
  },
  {
   "cell_type": "code",
   "execution_count": 29,
   "metadata": {},
   "outputs": [
    {
     "name": "stdout",
     "output_type": "stream",
     "text": [
      "Accuracy médio: 75.78%\n",
      "Accuracy intervalo: 73.55% a 78.01%\n"
     ]
    }
   ],
   "source": [
    "# Rodando com aleatoriedade e estratificação:\n",
    "\n",
    "from sklearn.model_selection import StratifiedKFold\n",
    "\n",
    "seed = 301\n",
    "np.random.seed(seed)\n",
    "\n",
    "cv = StratifiedKFold(n_splits=10, shuffle=True)\n",
    "modelo = DecisionTreeClassifier(max_depth=2)\n",
    "results = cross_validate(modelo, x_azar, y_azar, cv=cv, return_train_score=False)\n",
    "imprime_results(results)"
   ]
  },
  {
   "cell_type": "code",
   "execution_count": 30,
   "metadata": {},
   "outputs": [
    {
     "name": "stdout",
     "output_type": "stream",
     "text": [
      "Accuracy médio: 75.78%\n",
      "Accuracy intervalo: 73.83% a 77.73%\n"
     ]
    }
   ],
   "source": [
    "# Rodando só com estratificação e sem aleatoriedade e notando que o resultado já é satisfatorio:\n",
    "\n",
    "seed = 301\n",
    "np.random.seed(seed)\n",
    "\n",
    "cv = StratifiedKFold(n_splits=10)\n",
    "modelo = DecisionTreeClassifier(max_depth=2)\n",
    "results = cross_validate(modelo, x_azar, y_azar, cv=cv, return_train_score=False)\n",
    "imprime_results(results)"
   ]
  },
  {
   "cell_type": "code",
   "execution_count": 31,
   "metadata": {},
   "outputs": [
    {
     "data": {
      "text/html": [
       "<div>\n",
       "<style scoped>\n",
       "    .dataframe tbody tr th:only-of-type {\n",
       "        vertical-align: middle;\n",
       "    }\n",
       "\n",
       "    .dataframe tbody tr th {\n",
       "        vertical-align: top;\n",
       "    }\n",
       "\n",
       "    .dataframe thead th {\n",
       "        text-align: right;\n",
       "    }\n",
       "</style>\n",
       "<table border=\"1\" class=\"dataframe\">\n",
       "  <thead>\n",
       "    <tr style=\"text-align: right;\">\n",
       "      <th></th>\n",
       "      <th>preco</th>\n",
       "      <th>vendido</th>\n",
       "      <th>idade_do_modelo</th>\n",
       "      <th>km_por_ano</th>\n",
       "      <th>modelo</th>\n",
       "    </tr>\n",
       "  </thead>\n",
       "  <tbody>\n",
       "    <tr>\n",
       "      <th>0</th>\n",
       "      <td>30941.02</td>\n",
       "      <td>1</td>\n",
       "      <td>23</td>\n",
       "      <td>35085.22134</td>\n",
       "      <td>21</td>\n",
       "    </tr>\n",
       "    <tr>\n",
       "      <th>1</th>\n",
       "      <td>40557.96</td>\n",
       "      <td>1</td>\n",
       "      <td>25</td>\n",
       "      <td>12622.05362</td>\n",
       "      <td>27</td>\n",
       "    </tr>\n",
       "    <tr>\n",
       "      <th>2</th>\n",
       "      <td>89627.50</td>\n",
       "      <td>0</td>\n",
       "      <td>17</td>\n",
       "      <td>11440.79806</td>\n",
       "      <td>17</td>\n",
       "    </tr>\n",
       "    <tr>\n",
       "      <th>3</th>\n",
       "      <td>95276.14</td>\n",
       "      <td>0</td>\n",
       "      <td>8</td>\n",
       "      <td>43167.32682</td>\n",
       "      <td>9</td>\n",
       "    </tr>\n",
       "    <tr>\n",
       "      <th>4</th>\n",
       "      <td>117384.68</td>\n",
       "      <td>1</td>\n",
       "      <td>9</td>\n",
       "      <td>12770.11290</td>\n",
       "      <td>8</td>\n",
       "    </tr>\n",
       "  </tbody>\n",
       "</table>\n",
       "</div>"
      ],
      "text/plain": [
       "       preco  vendido  idade_do_modelo   km_por_ano  modelo\n",
       "0   30941.02        1               23  35085.22134      21\n",
       "1   40557.96        1               25  12622.05362      27\n",
       "2   89627.50        0               17  11440.79806      17\n",
       "3   95276.14        0                8  43167.32682       9\n",
       "4  117384.68        1                9  12770.11290       8"
      ]
     },
     "execution_count": 31,
     "metadata": {},
     "output_type": "execute_result"
    }
   ],
   "source": [
    "np.random.seed(seed)\n",
    "dados[\"modelo\"] = dados[\"idade_do_modelo\"] + np.random.randint(-2, 3, len(dados))\n",
    "dados.head()"
   ]
  },
  {
   "cell_type": "code",
   "execution_count": 32,
   "metadata": {},
   "outputs": [
    {
     "data": {
      "text/plain": [
       "array([21, 27, 17,  9,  8, 16, 23, 22, 18,  5, 20, 15, 14, 19,  6, 10, 24,\n",
       "       26, 13, 12, 25, 11,  7,  4], dtype=int64)"
      ]
     },
     "execution_count": 32,
     "metadata": {},
     "output_type": "execute_result"
    }
   ],
   "source": [
    "dados[\"modelo\"].unique()"
   ]
  },
  {
   "cell_type": "code",
   "execution_count": 33,
   "metadata": {},
   "outputs": [
    {
     "name": "stdout",
     "output_type": "stream",
     "text": [
      "Accuracy médio: 75.78%\n",
      "Accuracy intervalo: 73.67% a 77.90%\n"
     ]
    }
   ],
   "source": [
    "from sklearn.model_selection import GroupKFold\n",
    "\n",
    "seed = 301\n",
    "np.random.seed(seed)\n",
    "\n",
    "cv = GroupKFold(n_splits=10)\n",
    "modelo = DecisionTreeClassifier(max_depth=2)\n",
    "results = cross_validate(modelo, x_azar, y_azar, cv=cv, groups=dados[\"modelo\"], return_train_score=False)\n",
    "imprime_results(results)"
   ]
  },
  {
   "cell_type": "code",
   "execution_count": 34,
   "metadata": {},
   "outputs": [
    {
     "name": "stderr",
     "output_type": "stream",
     "text": [
      "c:\\Users\\Gustavo S Schultz\\AppData\\Local\\Programs\\Python\\Python311\\Lib\\site-packages\\sklearn\\utils\\validation.py:1184: DataConversionWarning: A column-vector y was passed when a 1d array was expected. Please change the shape of y to (n_samples, ), for example using ravel().\n",
      "  y = column_or_1d(y, warn=True)\n"
     ]
    },
    {
     "name": "stdout",
     "output_type": "stream",
     "text": [
      "\n",
      "A taxa de acerto do modelo é de 77.48%\n",
      "\n"
     ]
    }
   ],
   "source": [
    "from sklearn.preprocessing import StandardScaler\n",
    "from sklearn.svm import SVC\n",
    "\n",
    "seed = 301\n",
    "np.random.seed(seed)\n",
    "\n",
    "scaler = StandardScaler()\n",
    "scaler.fit(treino_x)\n",
    "treino_x_escalado = scaler.transform(treino_x)\n",
    "teste_x_escalado = scaler.transform(teste_x)\n",
    "\n",
    "modelo = SVC(gamma=\"auto\")\n",
    "modelo.fit(treino_x_escalado, treino_y)\n",
    "previsoes = modelo.predict(teste_x_escalado)\n",
    "\n",
    "acuracia = accuracy_score(teste_y, previsoes)\n",
    "print(f\"\\nA taxa de acerto do modelo é de {acuracia*100:.2f}%\\n\")"
   ]
  },
  {
   "cell_type": "code",
   "execution_count": 35,
   "metadata": {},
   "outputs": [
    {
     "name": "stderr",
     "output_type": "stream",
     "text": [
      "c:\\Users\\Gustavo S Schultz\\AppData\\Local\\Programs\\Python\\Python311\\Lib\\site-packages\\sklearn\\utils\\validation.py:1184: DataConversionWarning: A column-vector y was passed when a 1d array was expected. Please change the shape of y to (n_samples, ), for example using ravel().\n",
      "  y = column_or_1d(y, warn=True)\n",
      "c:\\Users\\Gustavo S Schultz\\AppData\\Local\\Programs\\Python\\Python311\\Lib\\site-packages\\sklearn\\utils\\validation.py:1184: DataConversionWarning: A column-vector y was passed when a 1d array was expected. Please change the shape of y to (n_samples, ), for example using ravel().\n",
      "  y = column_or_1d(y, warn=True)\n",
      "c:\\Users\\Gustavo S Schultz\\AppData\\Local\\Programs\\Python\\Python311\\Lib\\site-packages\\sklearn\\utils\\validation.py:1184: DataConversionWarning: A column-vector y was passed when a 1d array was expected. Please change the shape of y to (n_samples, ), for example using ravel().\n",
      "  y = column_or_1d(y, warn=True)\n",
      "c:\\Users\\Gustavo S Schultz\\AppData\\Local\\Programs\\Python\\Python311\\Lib\\site-packages\\sklearn\\utils\\validation.py:1184: DataConversionWarning: A column-vector y was passed when a 1d array was expected. Please change the shape of y to (n_samples, ), for example using ravel().\n",
      "  y = column_or_1d(y, warn=True)\n",
      "c:\\Users\\Gustavo S Schultz\\AppData\\Local\\Programs\\Python\\Python311\\Lib\\site-packages\\sklearn\\utils\\validation.py:1184: DataConversionWarning: A column-vector y was passed when a 1d array was expected. Please change the shape of y to (n_samples, ), for example using ravel().\n",
      "  y = column_or_1d(y, warn=True)\n",
      "c:\\Users\\Gustavo S Schultz\\AppData\\Local\\Programs\\Python\\Python311\\Lib\\site-packages\\sklearn\\utils\\validation.py:1184: DataConversionWarning: A column-vector y was passed when a 1d array was expected. Please change the shape of y to (n_samples, ), for example using ravel().\n",
      "  y = column_or_1d(y, warn=True)\n",
      "c:\\Users\\Gustavo S Schultz\\AppData\\Local\\Programs\\Python\\Python311\\Lib\\site-packages\\sklearn\\utils\\validation.py:1184: DataConversionWarning: A column-vector y was passed when a 1d array was expected. Please change the shape of y to (n_samples, ), for example using ravel().\n",
      "  y = column_or_1d(y, warn=True)\n",
      "c:\\Users\\Gustavo S Schultz\\AppData\\Local\\Programs\\Python\\Python311\\Lib\\site-packages\\sklearn\\utils\\validation.py:1184: DataConversionWarning: A column-vector y was passed when a 1d array was expected. Please change the shape of y to (n_samples, ), for example using ravel().\n",
      "  y = column_or_1d(y, warn=True)\n",
      "c:\\Users\\Gustavo S Schultz\\AppData\\Local\\Programs\\Python\\Python311\\Lib\\site-packages\\sklearn\\utils\\validation.py:1184: DataConversionWarning: A column-vector y was passed when a 1d array was expected. Please change the shape of y to (n_samples, ), for example using ravel().\n",
      "  y = column_or_1d(y, warn=True)\n",
      "c:\\Users\\Gustavo S Schultz\\AppData\\Local\\Programs\\Python\\Python311\\Lib\\site-packages\\sklearn\\utils\\validation.py:1184: DataConversionWarning: A column-vector y was passed when a 1d array was expected. Please change the shape of y to (n_samples, ), for example using ravel().\n",
      "  y = column_or_1d(y, warn=True)\n"
     ]
    },
    {
     "name": "stdout",
     "output_type": "stream",
     "text": [
      "Accuracy médio: 77.28%\n",
      "Accuracy intervalo: 74.39% a 80.18%\n"
     ]
    }
   ],
   "source": [
    "from sklearn.model_selection import GroupKFold\n",
    "\n",
    "seed = 301\n",
    "np.random.seed(seed)\n",
    "\n",
    "cv = GroupKFold(n_splits=10)\n",
    "modelo = SVC()\n",
    "results = cross_validate(modelo, x_azar, y_azar, cv=cv, groups=dados[\"modelo\"], return_train_score=False)\n",
    "imprime_results(results)"
   ]
  },
  {
   "cell_type": "code",
   "execution_count": 36,
   "metadata": {},
   "outputs": [],
   "source": [
    "scaler = StandardScaler()\n",
    "scaler.fit(x_azar)\n",
    "x_azar_escalado = scaler.transform(x_azar)"
   ]
  },
  {
   "cell_type": "code",
   "execution_count": 37,
   "metadata": {},
   "outputs": [
    {
     "name": "stderr",
     "output_type": "stream",
     "text": [
      "c:\\Users\\Gustavo S Schultz\\AppData\\Local\\Programs\\Python\\Python311\\Lib\\site-packages\\sklearn\\utils\\validation.py:1184: DataConversionWarning: A column-vector y was passed when a 1d array was expected. Please change the shape of y to (n_samples, ), for example using ravel().\n",
      "  y = column_or_1d(y, warn=True)\n",
      "c:\\Users\\Gustavo S Schultz\\AppData\\Local\\Programs\\Python\\Python311\\Lib\\site-packages\\sklearn\\utils\\validation.py:1184: DataConversionWarning: A column-vector y was passed when a 1d array was expected. Please change the shape of y to (n_samples, ), for example using ravel().\n",
      "  y = column_or_1d(y, warn=True)\n",
      "c:\\Users\\Gustavo S Schultz\\AppData\\Local\\Programs\\Python\\Python311\\Lib\\site-packages\\sklearn\\utils\\validation.py:1184: DataConversionWarning: A column-vector y was passed when a 1d array was expected. Please change the shape of y to (n_samples, ), for example using ravel().\n",
      "  y = column_or_1d(y, warn=True)\n",
      "c:\\Users\\Gustavo S Schultz\\AppData\\Local\\Programs\\Python\\Python311\\Lib\\site-packages\\sklearn\\utils\\validation.py:1184: DataConversionWarning: A column-vector y was passed when a 1d array was expected. Please change the shape of y to (n_samples, ), for example using ravel().\n",
      "  y = column_or_1d(y, warn=True)\n",
      "c:\\Users\\Gustavo S Schultz\\AppData\\Local\\Programs\\Python\\Python311\\Lib\\site-packages\\sklearn\\utils\\validation.py:1184: DataConversionWarning: A column-vector y was passed when a 1d array was expected. Please change the shape of y to (n_samples, ), for example using ravel().\n",
      "  y = column_or_1d(y, warn=True)\n",
      "c:\\Users\\Gustavo S Schultz\\AppData\\Local\\Programs\\Python\\Python311\\Lib\\site-packages\\sklearn\\utils\\validation.py:1184: DataConversionWarning: A column-vector y was passed when a 1d array was expected. Please change the shape of y to (n_samples, ), for example using ravel().\n",
      "  y = column_or_1d(y, warn=True)\n",
      "c:\\Users\\Gustavo S Schultz\\AppData\\Local\\Programs\\Python\\Python311\\Lib\\site-packages\\sklearn\\utils\\validation.py:1184: DataConversionWarning: A column-vector y was passed when a 1d array was expected. Please change the shape of y to (n_samples, ), for example using ravel().\n",
      "  y = column_or_1d(y, warn=True)\n",
      "c:\\Users\\Gustavo S Schultz\\AppData\\Local\\Programs\\Python\\Python311\\Lib\\site-packages\\sklearn\\utils\\validation.py:1184: DataConversionWarning: A column-vector y was passed when a 1d array was expected. Please change the shape of y to (n_samples, ), for example using ravel().\n",
      "  y = column_or_1d(y, warn=True)\n",
      "c:\\Users\\Gustavo S Schultz\\AppData\\Local\\Programs\\Python\\Python311\\Lib\\site-packages\\sklearn\\utils\\validation.py:1184: DataConversionWarning: A column-vector y was passed when a 1d array was expected. Please change the shape of y to (n_samples, ), for example using ravel().\n",
      "  y = column_or_1d(y, warn=True)\n",
      "c:\\Users\\Gustavo S Schultz\\AppData\\Local\\Programs\\Python\\Python311\\Lib\\site-packages\\sklearn\\utils\\validation.py:1184: DataConversionWarning: A column-vector y was passed when a 1d array was expected. Please change the shape of y to (n_samples, ), for example using ravel().\n",
      "  y = column_or_1d(y, warn=True)\n"
     ]
    },
    {
     "name": "stdout",
     "output_type": "stream",
     "text": [
      "Accuracy médio: 76.70%\n",
      "Accuracy intervalo: 74.30% a 79.10%\n"
     ]
    }
   ],
   "source": [
    "seed = 301\n",
    "np.random.seed(seed)\n",
    "\n",
    "cv = GroupKFold(n_splits=10)\n",
    "modelo = SVC()\n",
    "results = cross_validate(modelo, x_azar_escalado, y_azar, cv=cv, groups=dados[\"modelo\"], return_train_score=False)\n",
    "imprime_results(results)"
   ]
  },
  {
   "cell_type": "code",
   "execution_count": 41,
   "metadata": {},
   "outputs": [
    {
     "name": "stderr",
     "output_type": "stream",
     "text": [
      "c:\\Users\\Gustavo S Schultz\\AppData\\Local\\Programs\\Python\\Python311\\Lib\\site-packages\\sklearn\\utils\\validation.py:1184: DataConversionWarning: A column-vector y was passed when a 1d array was expected. Please change the shape of y to (n_samples, ), for example using ravel().\n",
      "  y = column_or_1d(y, warn=True)\n",
      "c:\\Users\\Gustavo S Schultz\\AppData\\Local\\Programs\\Python\\Python311\\Lib\\site-packages\\sklearn\\utils\\validation.py:1184: DataConversionWarning: A column-vector y was passed when a 1d array was expected. Please change the shape of y to (n_samples, ), for example using ravel().\n",
      "  y = column_or_1d(y, warn=True)\n",
      "c:\\Users\\Gustavo S Schultz\\AppData\\Local\\Programs\\Python\\Python311\\Lib\\site-packages\\sklearn\\utils\\validation.py:1184: DataConversionWarning: A column-vector y was passed when a 1d array was expected. Please change the shape of y to (n_samples, ), for example using ravel().\n",
      "  y = column_or_1d(y, warn=True)\n",
      "c:\\Users\\Gustavo S Schultz\\AppData\\Local\\Programs\\Python\\Python311\\Lib\\site-packages\\sklearn\\utils\\validation.py:1184: DataConversionWarning: A column-vector y was passed when a 1d array was expected. Please change the shape of y to (n_samples, ), for example using ravel().\n",
      "  y = column_or_1d(y, warn=True)\n",
      "c:\\Users\\Gustavo S Schultz\\AppData\\Local\\Programs\\Python\\Python311\\Lib\\site-packages\\sklearn\\utils\\validation.py:1184: DataConversionWarning: A column-vector y was passed when a 1d array was expected. Please change the shape of y to (n_samples, ), for example using ravel().\n",
      "  y = column_or_1d(y, warn=True)\n",
      "c:\\Users\\Gustavo S Schultz\\AppData\\Local\\Programs\\Python\\Python311\\Lib\\site-packages\\sklearn\\utils\\validation.py:1184: DataConversionWarning: A column-vector y was passed when a 1d array was expected. Please change the shape of y to (n_samples, ), for example using ravel().\n",
      "  y = column_or_1d(y, warn=True)\n",
      "c:\\Users\\Gustavo S Schultz\\AppData\\Local\\Programs\\Python\\Python311\\Lib\\site-packages\\sklearn\\utils\\validation.py:1184: DataConversionWarning: A column-vector y was passed when a 1d array was expected. Please change the shape of y to (n_samples, ), for example using ravel().\n",
      "  y = column_or_1d(y, warn=True)\n",
      "c:\\Users\\Gustavo S Schultz\\AppData\\Local\\Programs\\Python\\Python311\\Lib\\site-packages\\sklearn\\utils\\validation.py:1184: DataConversionWarning: A column-vector y was passed when a 1d array was expected. Please change the shape of y to (n_samples, ), for example using ravel().\n",
      "  y = column_or_1d(y, warn=True)\n",
      "c:\\Users\\Gustavo S Schultz\\AppData\\Local\\Programs\\Python\\Python311\\Lib\\site-packages\\sklearn\\utils\\validation.py:1184: DataConversionWarning: A column-vector y was passed when a 1d array was expected. Please change the shape of y to (n_samples, ), for example using ravel().\n",
      "  y = column_or_1d(y, warn=True)\n",
      "c:\\Users\\Gustavo S Schultz\\AppData\\Local\\Programs\\Python\\Python311\\Lib\\site-packages\\sklearn\\utils\\validation.py:1184: DataConversionWarning: A column-vector y was passed when a 1d array was expected. Please change the shape of y to (n_samples, ), for example using ravel().\n",
      "  y = column_or_1d(y, warn=True)\n"
     ]
    },
    {
     "name": "stdout",
     "output_type": "stream",
     "text": [
      "Accuracy médio: 76.68%\n",
      "Accuracy intervalo: 74.28% a 79.08%\n"
     ]
    }
   ],
   "source": [
    "from sklearn.pipeline import Pipeline\n",
    "\n",
    "seed = 301\n",
    "np.random.seed(seed)\n",
    "\n",
    "scaler = StandardScaler()\n",
    "modelo = SVC()\n",
    "\n",
    "pipeline = Pipeline([(\"transformacao\", scaler), (\"estimador\" ,modelo)])\n",
    "\n",
    "cv = GroupKFold(n_splits=10)\n",
    "results = cross_validate(pipeline, x_azar, y_azar, cv=cv, groups=dados[\"modelo\"], return_train_score=False)\n",
    "imprime_results(results)"
   ]
  }
 ],
 "metadata": {
  "kernelspec": {
   "display_name": "Python 3",
   "language": "python",
   "name": "python3"
  },
  "language_info": {
   "codemirror_mode": {
    "name": "ipython",
    "version": 3
   },
   "file_extension": ".py",
   "mimetype": "text/x-python",
   "name": "python",
   "nbconvert_exporter": "python",
   "pygments_lexer": "ipython3",
   "version": "3.11.4"
  },
  "orig_nbformat": 4
 },
 "nbformat": 4,
 "nbformat_minor": 2
}
